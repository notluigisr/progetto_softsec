{
 "cells": [
  {
   "cell_type": "code",
   "execution_count": null,
   "metadata": {
    "colab": {
     "base_uri": "https://localhost:8080/"
    },
    "id": "0wyryqy5kXN-",
    "outputId": "8a23b9fa-09c6-4ddb-b5fc-1137b84ba433"
   },
   "outputs": [
    {
     "name": "stdout",
     "output_type": "stream",
     "text": [
      "Mounted at /content/drive\n"
     ]
    }
   ],
   "source": [
    "from google.colab import drive\n",
    "drive.mount('/content/drive')"
   ]
  },
  {
   "cell_type": "code",
   "execution_count": 1,
   "metadata": {
    "id": "ecYRn_x4kdJg"
   },
   "outputs": [],
   "source": [
    "import pandas as pd\n",
    "import json\n",
    "\n",
    "file_path = 'DiverseVul.VulnerableCode.json'\n",
    "\n",
    "# Carica il dataset JSON\n",
    "with open(file_path, 'r') as f:\n",
    "    data = json.load(f)\n",
    "\n",
    "# Crea un DataFrame\n",
    "dv = pd.DataFrame(data)\n"
   ]
  },
  {
   "cell_type": "code",
   "execution_count": 2,
   "metadata": {
    "colab": {
     "base_uri": "https://localhost:8080/"
    },
    "id": "9-47hEukkiOQ",
    "outputId": "3e876311-7ab5-482c-f504-e2519d182a58"
   },
   "outputs": [
    {
     "name": "stdout",
     "output_type": "stream",
     "text": [
      "Numero totale di entry (funzioni): 330492\n",
      "Distribuzione delle classi target:\n",
      "target\n",
      "0    311547\n",
      "1     18945\n",
      "Name: count, dtype: int64\n",
      "\n",
      "Distribuzione delle vulnerabilità CWE:\n",
      "cwe\n",
      "CWE-787    39343\n",
      "CWE-125    28180\n",
      "CWE-703    25208\n",
      "CWE-119    25036\n",
      "CWE-20     22870\n",
      "           ...  \n",
      "CWE-672       11\n",
      "CWE-91         9\n",
      "CWE-565        8\n",
      "CWE-825        8\n",
      "CWE-805        2\n",
      "Name: count, Length: 150, dtype: int64\n"
     ]
    }
   ],
   "source": [
    "# Utilizza il metodo shape per ottenere le dimensioni del DataFrame\n",
    "num_entries = dv.shape[0]\n",
    "\n",
    "print(\"Numero totale di entry (funzioni):\", num_entries)\n",
    "\n",
    "# Conta le occorrenze delle classi target\n",
    "target_counts = dv['target'].value_counts()\n",
    "\n",
    "# Conta le occorrenze delle vulnerabilità CWE\n",
    "cwe_counts = dv['cwe'].explode().value_counts()\n",
    "\n",
    "# Visualizza le distribuzioni\n",
    "print(\"Distribuzione delle classi target:\")\n",
    "print(target_counts)\n",
    "\n",
    "print(\"\\nDistribuzione delle vulnerabilità CWE:\")\n",
    "print(cwe_counts)\n"
   ]
  },
  {
   "cell_type": "code",
   "execution_count": null,
   "metadata": {
    "id": "F0MeRsplXlJd"
   },
   "outputs": [],
   "source": [
    "print(\"Before: \",dv['func'].iloc[0])\n",
    "print(\"After:  \",df['func'].iloc[0])"
   ]
  },
  {
   "cell_type": "code",
   "execution_count": 4,
   "metadata": {
    "id": "oGlduZTekuxl"
   },
   "outputs": [],
   "source": [
    "import pandas as pd\n",
    "from imblearn.over_sampling import RandomOverSampler\n",
    "from sklearn.model_selection import train_test_split\n",
    "\n",
    "df=dv.copy()\n",
    "\n",
    "# Dividere le caratteristiche (X) e il target (y)\n",
    "X = df['func']\n",
    "y = df['target']\n",
    "\n",
    "# Suddividere il dataset originale in set di addestramento e di test\n",
    "X_train, X_test, y_train, y_test = train_test_split(X, y, test_size=0.2, random_state=42, stratify=y)\n",
    "\n",
    "# Creazione del campionatore\n",
    "ros = RandomOverSampler(random_state=42)\n",
    "\n",
    "# Applicare il campionatore solo ai dati di addestramento\n",
    "X_train_resampled, y_train_resampled = ros.fit_resample(X_train.values.reshape(-1, 1), y_train)\n",
    "\n",
    "# Convertire i dati resampled back in un formato pandas series\n",
    "X_train_resampled = pd.Series(X_train_resampled.flatten())\n"
   ]
  },
  {
   "cell_type": "code",
   "execution_count": 5,
   "metadata": {
    "id": "-ZVURz3Xk1Si"
   },
   "outputs": [],
   "source": [
    "from sklearn.ensemble import RandomForestClassifier\n",
    "from sklearn.feature_extraction.text import TfidfVectorizer\n",
    "from sklearn.pipeline import Pipeline\n",
    "from sklearn.model_selection import train_test_split\n",
    "\n",
    "#Creazione del pipeline\n",
    "pipeline = Pipeline([\n",
    "    ('tfidf', TfidfVectorizer()),  # Trasformazione del testo in feature\n",
    "    ('rf', RandomForestClassifier(n_estimators=10, random_state=42))\n",
    "])"
   ]
  },
  {
   "cell_type": "code",
   "execution_count": null,
   "metadata": {
    "id": "G81vrIwlk3XO"
   },
   "outputs": [],
   "source": [
    "pipeline.fit(X_train_resampled, y_train_resampled)"
   ]
  },
  {
   "cell_type": "code",
   "execution_count": null,
   "metadata": {
    "id": "O6mGmIT98ef2"
   },
   "outputs": [],
   "source": [
    "from sklearn.metrics import classification_report, accuracy_score\n",
    "\n",
    "y_pred = pipeline.predict(X_test)\n",
    "print(classification_report(y_test, y_pred))\n",
    "print(f\"Accuracy: {accuracy_score(y_test, y_pred)}\")"
   ]
  },
  {
   "cell_type": "code",
   "execution_count": null,
   "metadata": {
    "id": "VOnk74DT8kr2"
   },
   "outputs": [],
   "source": [
    "import matplotlib.pyplot as plt\n",
    "from sklearn.metrics import confusion_matrix, ConfusionMatrixDisplay\n",
    "\n",
    "cm = confusion_matrix(y_test, y_pred)\n",
    "\n",
    "disp = ConfusionMatrixDisplay(confusion_matrix=cm, display_labels=pipeline.classes_)\n",
    "disp.plot(cmap=plt.cm.Blues)\n",
    "plt.show()"
   ]
  },
  {
   "cell_type": "code",
   "execution_count": null,
   "metadata": {
    "id": "riJ-9Lv8Yjpw"
   },
   "outputs": [],
   "source": [
    "import pickle\n",
    "file_path = \"/content/drive/My Drive/random_forest_model_OVER.pkl\"\n",
    "\n",
    "with open(file_path, 'wb') as file:\n",
    "    pickle.dump(pipeline, file)"
   ]
  }
 ],
 "metadata": {
  "colab": {
   "provenance": []
  },
  "kernelspec": {
   "display_name": "Python 3 (ipykernel)",
   "language": "python",
   "name": "python3"
  },
  "language_info": {
   "codemirror_mode": {
    "name": "ipython",
    "version": 3
   },
   "file_extension": ".py",
   "mimetype": "text/x-python",
   "name": "python",
   "nbconvert_exporter": "python",
   "pygments_lexer": "ipython3",
   "version": "3.11.7"
  }
 },
 "nbformat": 4,
 "nbformat_minor": 4
}
