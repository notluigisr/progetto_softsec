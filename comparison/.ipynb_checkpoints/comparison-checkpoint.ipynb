{
 "cells": [
  {
   "cell_type": "markdown",
   "metadata": {
    "id": "P-lphw6YzN32"
   },
   "source": [
    "# Librerie\n"
   ]
  },
  {
   "cell_type": "code",
   "execution_count": 24,
   "metadata": {},
   "outputs": [],
   "source": [
    "import numpy as np\n",
    "import pandas as pd\n",
    "from scipy.stats import mode\n",
    "import seaborn as sns\n",
    "import matplotlib.pyplot as plt\n",
    "from sklearn.metrics import confusion_matrix, accuracy_score, precision_score, recall_score, f1_score\n",
    "from sklearn.metrics import classification_report, confusion_matrix, ConfusionMatrixDisplay\n"
   ]
  },
  {
   "cell_type": "markdown",
   "metadata": {
    "id": "P-lphw6YzN32"
   },
   "source": [
    "# Dati\n"
   ]
  },
  {
   "cell_type": "code",
   "execution_count": 42,
   "metadata": {},
   "outputs": [],
   "source": [
    "# Carica il vettore numpy dal file\n",
    "predictions_codeT5 = np.load(\"codeBERT_predictions.npy\")\n",
    "predictions_codeBERT = np.load(\"codeT5_predictions.npy\")\n",
    "predictions_natGen = np.load(\"NatGen_predictions.npy\")"
   ]
  },
  {
   "cell_type": "markdown",
   "metadata": {
    "id": "P-lphw6YzN32"
   },
   "source": [
    "# Majority voting\n"
   ]
  },
  {
   "cell_type": "code",
   "execution_count": 43,
   "metadata": {},
   "outputs": [
    {
     "data": {
      "text/plain": [
       "array([1, 0, 1, ..., 0, 0, 1])"
      ]
     },
     "execution_count": 43,
     "metadata": {},
     "output_type": "execute_result"
    }
   ],
   "source": [
    "import numpy as np\n",
    "from scipy.stats import mode\n",
    "\n",
    "# Assumendo che le predizioni siano array numpy di etichette (es. 0 per non vulnerabile, 1 per vulnerabile)\n",
    "all_predictions = np.array([predictions_codeT5, predictions_codeBERT, predictions_natGen])\n",
    "final_predictions, _ = mode(all_predictions, axis=0)\n",
    "final_predictions"
   ]
  },
  {
   "cell_type": "code",
   "execution_count": 44,
   "metadata": {},
   "outputs": [
    {
     "data": {
      "text/html": [
       "<div>\n",
       "<style scoped>\n",
       "    .dataframe tbody tr th:only-of-type {\n",
       "        vertical-align: middle;\n",
       "    }\n",
       "\n",
       "    .dataframe tbody tr th {\n",
       "        vertical-align: top;\n",
       "    }\n",
       "\n",
       "    .dataframe thead th {\n",
       "        text-align: right;\n",
       "    }\n",
       "</style>\n",
       "<table border=\"1\" class=\"dataframe\">\n",
       "  <thead>\n",
       "    <tr style=\"text-align: right;\">\n",
       "      <th></th>\n",
       "      <th>_id</th>\n",
       "      <th>func</th>\n",
       "      <th>target</th>\n",
       "      <th>cwe</th>\n",
       "      <th>project</th>\n",
       "      <th>size</th>\n",
       "    </tr>\n",
       "  </thead>\n",
       "  <tbody>\n",
       "    <tr>\n",
       "      <th>24286</th>\n",
       "      <td>{'$oid': '6527b17999826ba7e58ebd4c'}</td>\n",
       "      <td>std::string get_wml_location(const std::string...</td>\n",
       "      <td>1</td>\n",
       "      <td>[CWE-200]</td>\n",
       "      <td>wesnoth</td>\n",
       "      <td>60</td>\n",
       "    </tr>\n",
       "    <tr>\n",
       "      <th>24372</th>\n",
       "      <td>{'$oid': '6527b2c499826ba7e592f60d'}</td>\n",
       "      <td>Status RunRestore(const RunOptions&amp; run_option...</td>\n",
       "      <td>0</td>\n",
       "      <td>[CWE-20, CWE-703]</td>\n",
       "      <td>tensorflow</td>\n",
       "      <td>36</td>\n",
       "    </tr>\n",
       "    <tr>\n",
       "      <th>24726</th>\n",
       "      <td>{'$oid': '6527b1ea99826ba7e5900fe3'}</td>\n",
       "      <td>gdIOCtx * gdNewDynamicCtxEx (int initialSize, ...</td>\n",
       "      <td>0</td>\n",
       "      <td>[CWE-119]</td>\n",
       "      <td>php-src</td>\n",
       "      <td>24</td>\n",
       "    </tr>\n",
       "    <tr>\n",
       "      <th>24716</th>\n",
       "      <td>{'$oid': '6527b2b199826ba7e592ab24'}</td>\n",
       "      <td>void gf_filter_check_output_reconfig(GF_Filter...</td>\n",
       "      <td>0</td>\n",
       "      <td>[CWE-787]</td>\n",
       "      <td>gpac</td>\n",
       "      <td>33</td>\n",
       "    </tr>\n",
       "    <tr>\n",
       "      <th>25001</th>\n",
       "      <td>{'$oid': '6527b18899826ba7e58edae0'}</td>\n",
       "      <td>RoleName RoleName::parseFromBSON(const BSONEle...</td>\n",
       "      <td>1</td>\n",
       "      <td>[CWE-20]</td>\n",
       "      <td>mongo</td>\n",
       "      <td>20</td>\n",
       "    </tr>\n",
       "  </tbody>\n",
       "</table>\n",
       "</div>"
      ],
      "text/plain": [
       "                                        _id  \\\n",
       "24286  {'$oid': '6527b17999826ba7e58ebd4c'}   \n",
       "24372  {'$oid': '6527b2c499826ba7e592f60d'}   \n",
       "24726  {'$oid': '6527b1ea99826ba7e5900fe3'}   \n",
       "24716  {'$oid': '6527b2b199826ba7e592ab24'}   \n",
       "25001  {'$oid': '6527b18899826ba7e58edae0'}   \n",
       "\n",
       "                                                    func  target  \\\n",
       "24286  std::string get_wml_location(const std::string...       1   \n",
       "24372  Status RunRestore(const RunOptions& run_option...       0   \n",
       "24726  gdIOCtx * gdNewDynamicCtxEx (int initialSize, ...       0   \n",
       "24716  void gf_filter_check_output_reconfig(GF_Filter...       0   \n",
       "25001  RoleName RoleName::parseFromBSON(const BSONEle...       1   \n",
       "\n",
       "                     cwe     project  size  \n",
       "24286          [CWE-200]     wesnoth    60  \n",
       "24372  [CWE-20, CWE-703]  tensorflow    36  \n",
       "24726          [CWE-119]     php-src    24  \n",
       "24716          [CWE-787]        gpac    33  \n",
       "25001           [CWE-20]       mongo    20  "
      ]
     },
     "execution_count": 44,
     "metadata": {},
     "output_type": "execute_result"
    }
   ],
   "source": [
    "df_test = pd.read_json('df_test.json')\n",
    "df_test.head()"
   ]
  },
  {
   "cell_type": "code",
   "execution_count": 45,
   "metadata": {},
   "outputs": [
    {
     "data": {
      "text/plain": [
       "array([1, 0, 0, ..., 0, 1, 1])"
      ]
     },
     "execution_count": 45,
     "metadata": {},
     "output_type": "execute_result"
    }
   ],
   "source": [
    "y_true = df_test['target']\n",
    "y_true_array = y_true.values\n",
    "y_true_array"
   ]
  },
  {
   "cell_type": "code",
   "execution_count": 46,
   "metadata": {},
   "outputs": [
    {
     "name": "stdout",
     "output_type": "stream",
     "text": [
      "Classification Report:\n",
      "              precision    recall  f1-score   support\n",
      "\n",
      "           0       0.70      0.68      0.69       627\n",
      "           1       0.69      0.71      0.70       627\n",
      "\n",
      "    accuracy                           0.69      1254\n",
      "   macro avg       0.69      0.69      0.69      1254\n",
      "weighted avg       0.69      0.69      0.69      1254\n",
      "\n"
     ]
    },
    {
     "data": {
      "image/png": "[encoded data removed]",
      "text/plain": [
       "<Figure size 640x480 with 2 Axes>"
      ]
     },
     "metadata": {},
     "output_type": "display_data"
    }
   ],
   "source": [
    "# Step 11: Stampa del classification report\n",
    "print(\"Classification Report:\")\n",
    "print(classification_report(y_true_array, final_predictions))\n",
    "\n",
    "target_names = ['not vulnerable', 'vulnerable']\n",
    "\n",
    "# Calcola la matrice di confusione\n",
    "conf_matrix = confusion_matrix(y_true_array, final_predictions)\n",
    "\n",
    "# Visualizza la matrice di confusione\n",
    "disp = ConfusionMatrixDisplay(confusion_matrix=conf_matrix, display_labels=target_names)\n",
    "disp.plot(cmap=plt.cm.Blues)\n",
    "plt.show()"
   ]
  },
  {
   "cell_type": "markdown",
   "metadata": {
    "id": "P-lphw6YzN32"
   },
   "source": [
    "# Weighted voting\n"
   ]
  },
  {
   "cell_type": "code",
   "execution_count": 93,
   "metadata": {},
   "outputs": [],
   "source": [
    "# Pesature relative per i modelli\n",
    "weights = [0.5, 0.15, 0.35]\n",
    "\n",
    "# Supponiamo di avere le predizioni dirette per i modelli: predictions_codeT5, predictions_codeBERT, predictions_natGen\n",
    "\n",
    "# Calcolare la predizione finale pesata\n",
    "final_predictions = (weights[0] * predictions_codeT5 + weights[1] * predictions_codeBERT + weights[2] * predictions_natGen)\n",
    "\n",
    "# Selezionare l'indice della classe con somma pesata massima come predizione finale\n",
    "final_predictions = np.round(final_predictions)  # Arrotonda alla classe più vicina (0 o 1)\n",
    "\n",
    "# Se necessario, convertire le predizioni in interi (0 o 1)\n",
    "final_predictions = final_predictions.astype(int)\n",
    "\n"
   ]
  },
  {
   "cell_type": "code",
   "execution_count": 94,
   "metadata": {},
   "outputs": [
    {
     "name": "stdout",
     "output_type": "stream",
     "text": [
      "Classification Report:\n",
      "              precision    recall  f1-score   support\n",
      "\n",
      "           0       0.68      0.72      0.70       627\n",
      "           1       0.70      0.66      0.68       627\n",
      "\n",
      "    accuracy                           0.69      1254\n",
      "   macro avg       0.69      0.69      0.69      1254\n",
      "weighted avg       0.69      0.69      0.69      1254\n",
      "\n"
     ]
    },
    {
     "data": {
      "image/png": "[encoded data removed]",
      "text/plain": [
       "<Figure size 640x480 with 2 Axes>"
      ]
     },
     "metadata": {},
     "output_type": "display_data"
    }
   ],
   "source": [
    "# Step 11: Stampa del classification report\n",
    "print(\"Classification Report:\")\n",
    "print(classification_report(y_true_array, final_predictions))\n",
    "\n",
    "target_names = ['not vulnerable', 'vulnerable']\n",
    "\n",
    "# Calcola la matrice di confusione\n",
    "conf_matrix = confusion_matrix(y_true_array, final_predictions)\n",
    "\n",
    "# Visualizza la matrice di confusione\n",
    "disp = ConfusionMatrixDisplay(confusion_matrix=conf_matrix, display_labels=target_names)\n",
    "disp.plot(cmap=plt.cm.Blues)\n",
    "plt.show()"
   ]
  }
 ],
 "metadata": {
  "colab": {
   "collapsed_sections": [
    "22zuxXMeeSwh",
    "l6z58tn3yN8S"
   ],
   "provenance": []
  },
  "kernelspec": {
   "display_name": "Python 3 (ipykernel)",
   "language": "python",
   "name": "python3"
  },
  "language_info": {
   "codemirror_mode": {
    "name": "ipython",
    "version": 3
   },
   "file_extension": ".py",
   "mimetype": "text/x-python",
   "name": "python",
   "nbconvert_exporter": "python",
   "pygments_lexer": "ipython3",
   "version": "3.11.7"
  }
 },
 "nbformat": 4,
 "nbformat_minor": 4
}
