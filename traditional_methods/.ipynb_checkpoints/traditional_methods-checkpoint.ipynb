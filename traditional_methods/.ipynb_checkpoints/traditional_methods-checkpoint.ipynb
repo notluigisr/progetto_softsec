{
 "cells": [
  {
   "cell_type": "markdown",
   "metadata": {
    "id": "P-lphw6YzN32"
   },
   "source": [
    "# Librerie\n"
   ]
  },
  {
   "cell_type": "code",
   "execution_count": 4,
   "metadata": {},
   "outputs": [],
   "source": [
    "import os\n",
    "import pandas as pd\n",
    "import subprocess"
   ]
  },
  {
   "cell_type": "markdown",
   "metadata": {
    "id": "P-lphw6YzN32"
   },
   "source": [
    "# Dataset\n"
   ]
  },
  {
   "cell_type": "code",
   "execution_count": 2,
   "metadata": {},
   "outputs": [
    {
     "name": "stdout",
     "output_type": "stream",
     "text": [
      "                                        _id  \\\n",
      "24286  {'$oid': '6527b17999826ba7e58ebd4c'}   \n",
      "24372  {'$oid': '6527b2c499826ba7e592f60d'}   \n",
      "24726  {'$oid': '6527b1ea99826ba7e5900fe3'}   \n",
      "24716  {'$oid': '6527b2b199826ba7e592ab24'}   \n",
      "25001  {'$oid': '6527b18899826ba7e58edae0'}   \n",
      "\n",
      "                                                    func  target  \\\n",
      "24286  std::string get_wml_location(const std::string...       1   \n",
      "24372  Status RunRestore(const RunOptions& run_option...       0   \n",
      "24726  gdIOCtx * gdNewDynamicCtxEx (int initialSize, ...       0   \n",
      "24716  void gf_filter_check_output_reconfig(GF_Filter...       0   \n",
      "25001  RoleName RoleName::parseFromBSON(const BSONEle...       1   \n",
      "\n",
      "                     cwe     project  size  \n",
      "24286          [CWE-200]     wesnoth    60  \n",
      "24372  [CWE-20, CWE-703]  tensorflow    36  \n",
      "24726          [CWE-119]     php-src    24  \n",
      "24716          [CWE-787]        gpac    33  \n",
      "25001           [CWE-20]       mongo    20  \n"
     ]
    }
   ],
   "source": [
    "# Leggi il file JSON e caricalo in un dataframe\n",
    "df = pd.read_json('df_test.json')\n",
    "\n",
    "# Stampa la testa del dataframe\n",
    "print(df.head())"
   ]
  },
  {
   "cell_type": "code",
   "execution_count": 3,
   "metadata": {},
   "outputs": [],
   "source": [
    "# Funzione per creare i file C\n",
    "def create_c_files_from_dataframe(df, directory):\n",
    "    # Crea la directory se non esiste\n",
    "    if not os.path.exists(directory):\n",
    "        os.makedirs(directory)\n",
    "    \n",
    "    # Itera su ogni riga del dataframe\n",
    "    for index, row in df.iterrows():\n",
    "        # Estrai l'ID e il contenuto della funzione\n",
    "        file_id = row['_id']['$oid']\n",
    "        func_content = row['func']\n",
    "        \n",
    "        # Definisci il nome del file\n",
    "        file_name = f\"{file_id}.c\"\n",
    "        file_path = os.path.join(directory, file_name)\n",
    "        \n",
    "        # Scrivi il contenuto della funzione nel file\n",
    "        with open(file_path, 'w') as file:\n",
    "            file.write(func_content)\n",
    "\n",
    "# Definisci il percorso della cartella di destinazione\n",
    "output_directory = 'funzioni_c'\n",
    "\n",
    "# Crea i file C\n",
    "create_c_files_from_dataframe(df, output_directory)\n"
   ]
  },
  {
   "cell_type": "markdown",
   "metadata": {
    "id": "P-lphw6YzN32"
   },
   "source": [
    "# clang\n"
   ]
  },
  {
   "cell_type": "markdown",
   "metadata": {
    "id": "P-lphw6YzN32"
   },
   "source": [
    "# Flawfinder\n"
   ]
  },
  {
   "cell_type": "code",
   "execution_count": 10,
   "metadata": {},
   "outputs": [
    {
     "name": "stdout",
     "output_type": "stream",
     "text": [
      "Warning: Skipping directory with initial dot funzioni_c/.ipynb_checkpoints\n",
      "\n"
     ]
    }
   ],
   "source": [
    "import subprocess\n",
    "\n",
    "# Definisci il comando e i suoi argomenti come una lista\n",
    "command = [\"flawfinder\", \"funzioni_c/\"]\n",
    "\n",
    "# Esegui il comando e cattura l'output\n",
    "result = subprocess.run(command, capture_output=True, text=True)\n",
    "\n",
    "# Scrivi l'output su un file\n",
    "with open(\"report_flawfinder.txt\", \"w\") as file:\n",
    "    file.write(result.stdout)\n",
    "\n",
    "# Stampa eventuali errori\n",
    "if result.stderr:\n",
    "    print(result.stderr)"
   ]
  },
  {
   "cell_type": "code",
   "execution_count": 11,
   "metadata": {},
   "outputs": [
    {
     "name": "stdout",
     "output_type": "stream",
     "text": [
      "Warning: Skipping directory with initial dot funzioni_c/.ipynb_checkpoints\n",
      "\n"
     ]
    }
   ],
   "source": [
    "import subprocess\n",
    "\n",
    "# Definisci il comando e i suoi argomenti come una lista\n",
    "command = [\"flawfinder\", \"-F\", \"funzioni_c/\"]\n",
    "\n",
    "# Esegui il comando e cattura l'output\n",
    "result = subprocess.run(command, capture_output=True, text=True)\n",
    "\n",
    "# Scrivi l'output su un file\n",
    "with open(\"report_flawfinder_noFP.txt\", \"w\") as file:\n",
    "    file.write(result.stdout)\n",
    "\n",
    "# Stampa eventuali errori\n",
    "if result.stderr:\n",
    "    print(result.stderr)"
   ]
  },
  {
   "cell_type": "markdown",
   "metadata": {
    "id": "P-lphw6YzN32"
   },
   "source": [
    "# cppcheck\n"
   ]
  },
  {
   "cell_type": "code",
   "execution_count": null,
   "metadata": {},
   "outputs": [],
   "source": []
  }
 ],
 "metadata": {
  "colab": {
   "collapsed_sections": [
    "22zuxXMeeSwh",
    "l6z58tn3yN8S"
   ],
   "provenance": []
  },
  "kernelspec": {
   "display_name": "Python 3 (ipykernel)",
   "language": "python",
   "name": "python3"
  },
  "language_info": {
   "codemirror_mode": {
    "name": "ipython",
    "version": 3
   },
   "file_extension": ".py",
   "mimetype": "text/x-python",
   "name": "python",
   "nbconvert_exporter": "python",
   "pygments_lexer": "ipython3",
   "version": "3.11.7"
  }
 },
 "nbformat": 4,
 "nbformat_minor": 4
}
