{
 "cells": [
  {
   "cell_type": "markdown",
   "metadata": {
    "id": "P-lphw6YzN32"
   },
   "source": [
    "# Librerie\n"
   ]
  },
  {
   "cell_type": "code",
   "execution_count": 28,
   "metadata": {},
   "outputs": [],
   "source": [
    "import os\n",
    "import pandas as pd\n",
    "import subprocess\n",
    "from sklearn.metrics import classification_report, confusion_matrix, ConfusionMatrixDisplay\n",
    "import numpy as np\n",
    "import matplotlib.pyplot as plt"
   ]
  },
  {
   "cell_type": "markdown",
   "metadata": {
    "id": "P-lphw6YzN32"
   },
   "source": [
    "# Dataset\n"
   ]
  },
  {
   "cell_type": "code",
   "execution_count": 16,
   "metadata": {},
   "outputs": [
    {
     "name": "stdout",
     "output_type": "stream",
     "text": [
      "                                        _id  \\\n",
      "24286  {'$oid': '6527b17999826ba7e58ebd4c'}   \n",
      "24372  {'$oid': '6527b2c499826ba7e592f60d'}   \n",
      "24726  {'$oid': '6527b1ea99826ba7e5900fe3'}   \n",
      "24716  {'$oid': '6527b2b199826ba7e592ab24'}   \n",
      "25001  {'$oid': '6527b18899826ba7e58edae0'}   \n",
      "\n",
      "                                                    func  target  \\\n",
      "24286  std::string get_wml_location(const std::string...       1   \n",
      "24372  Status RunRestore(const RunOptions& run_option...       0   \n",
      "24726  gdIOCtx * gdNewDynamicCtxEx (int initialSize, ...       0   \n",
      "24716  void gf_filter_check_output_reconfig(GF_Filter...       0   \n",
      "25001  RoleName RoleName::parseFromBSON(const BSONEle...       1   \n",
      "\n",
      "                     cwe     project  size  \n",
      "24286          [CWE-200]     wesnoth    60  \n",
      "24372  [CWE-20, CWE-703]  tensorflow    36  \n",
      "24726          [CWE-119]     php-src    24  \n",
      "24716          [CWE-787]        gpac    33  \n",
      "25001           [CWE-20]       mongo    20  \n"
     ]
    }
   ],
   "source": [
    "# Leggi il file JSON e caricalo in un dataframe\n",
    "df = pd.read_json('df_test.json')\n",
    "\n",
    "# Stampa la testa del dataframe\n",
    "print(df.head())"
   ]
  },
  {
   "cell_type": "code",
   "execution_count": 17,
   "metadata": {},
   "outputs": [],
   "source": [
    "# Funzione per creare i file C\n",
    "def create_c_files_from_dataframe(df, directory):\n",
    "    # Crea la directory se non esiste\n",
    "    if not os.path.exists(directory):\n",
    "        os.makedirs(directory)\n",
    "    \n",
    "    # Itera su ogni riga del dataframe\n",
    "    for index, row in df.iterrows():\n",
    "        # Estrai l'ID e il contenuto della funzione\n",
    "        file_id = row['_id']['$oid']\n",
    "        func_content = row['func']\n",
    "        \n",
    "        # Definisci il nome del file\n",
    "        file_name = f\"{file_id}.c\"\n",
    "        file_path = os.path.join(directory, file_name)\n",
    "        \n",
    "        # Scrivi il contenuto della funzione nel file\n",
    "        with open(file_path, 'w') as file:\n",
    "            file.write(func_content)\n",
    "\n",
    "# Definisci il percorso della cartella di destinazione\n",
    "output_directory = 'funzioni_c'\n",
    "\n",
    "# Crea i file C\n",
    "create_c_files_from_dataframe(df, output_directory)\n"
   ]
  },
  {
   "cell_type": "markdown",
   "metadata": {
    "id": "P-lphw6YzN32"
   },
   "source": [
    "# clang\n"
   ]
  },
  {
   "cell_type": "markdown",
   "metadata": {
    "id": "P-lphw6YzN32"
   },
   "source": [
    "# Flawfinder\n"
   ]
  },
  {
   "cell_type": "code",
   "execution_count": 18,
   "metadata": {},
   "outputs": [
    {
     "name": "stdout",
     "output_type": "stream",
     "text": [
      "Warning: Skipping directory with initial dot funzioni_c/.scannerwork\n",
      "Warning: Skipping directory with initial dot funzioni_c/.ipynb_checkpoints\n",
      "\n"
     ]
    }
   ],
   "source": [
    "# Definisci il comando e i suoi argomenti come una lista\n",
    "command = [\"flawfinder\", \"funzioni_c/\"]\n",
    "\n",
    "# Esegui il comando e cattura l'output\n",
    "result = subprocess.run(command, capture_output=True, text=True)\n",
    "\n",
    "# Scrivi l'output su un file\n",
    "with open(\"report_flawfinder.txt\", \"w\") as file:\n",
    "    file.write(result.stdout)\n",
    "\n",
    "# Stampa eventuali errori\n",
    "if result.stderr:\n",
    "    print(result.stderr)"
   ]
  },
  {
   "cell_type": "code",
   "execution_count": 19,
   "metadata": {},
   "outputs": [
    {
     "name": "stdout",
     "output_type": "stream",
     "text": [
      "Warning: Skipping directory with initial dot funzioni_c/.scannerwork\n",
      "Warning: Skipping directory with initial dot funzioni_c/.ipynb_checkpoints\n",
      "\n"
     ]
    }
   ],
   "source": [
    "# Definisci il comando e i suoi argomenti come una lista\n",
    "command = [\"flawfinder\", \"-F\", \"funzioni_c/\"]\n",
    "\n",
    "# Esegui il comando e cattura l'output\n",
    "result = subprocess.run(command, capture_output=True, text=True)\n",
    "\n",
    "# Scrivi l'output su un file\n",
    "with open(\"report_flawfinder_noFP.txt\", \"w\") as file:\n",
    "    file.write(result.stdout)\n",
    "\n",
    "# Stampa eventuali errori\n",
    "if result.stderr:\n",
    "    print(result.stderr)"
   ]
  },
  {
   "cell_type": "code",
   "execution_count": 20,
   "metadata": {},
   "outputs": [
    {
     "name": "stdout",
     "output_type": "stream",
     "text": [
      "Numero totale di voci nel dataframe: 1254\n",
      "La colonna 'count' non contiene valori pari a 0.\n",
      "                       nome_func  target\n",
      "0     6527b17999826ba7e58ebd4e.c       0\n",
      "1     6527b18d99826ba7e58ee366.c       0\n",
      "2     6527b2b499826ba7e592b6e9.c       0\n",
      "3     6527b17a99826ba7e58ec1c1.c       1\n",
      "4     6527b2c899826ba7e592ffea.c       1\n",
      "...                          ...     ...\n",
      "1249  6527b22f99826ba7e590e682.c       0\n",
      "1250  6527b2f699826ba7e593aaea.c       0\n",
      "1251  6527b2a599826ba7e59278a8.c       0\n",
      "1252  6527b18699826ba7e58ed4ae.c       0\n",
      "1253  6527b27799826ba7e591dd11.c       0\n",
      "\n",
      "[1254 rows x 2 columns]\n"
     ]
    }
   ],
   "source": [
    "def conta_occorrenze(nome_file, nome_func):\n",
    "    with open(nome_file, 'r') as file:\n",
    "        # Leggi il contenuto del file\n",
    "        content = file.read()\n",
    "        # Conta le occorrenze del nome_func nel contenuto del file\n",
    "        count = content.count(nome_func)\n",
    "    return count\n",
    "\n",
    "# Definisci il percorso della cartella contenente i file .c\n",
    "cartella = \"funzioni_c\"\n",
    "\n",
    "# Ottieni una lista di tutti i file .c nella cartella\n",
    "files = [file for file in os.listdir(cartella) if file.endswith(\".c\")]\n",
    "\n",
    "# Crea il dataframe\n",
    "dv = pd.DataFrame({\"nome_func\": files})\n",
    "\n",
    "# Specifica il percorso del file di testo in cui contare le occorrenze\n",
    "percorso_file_testo = \"report_flawfinder.txt\"\n",
    "\n",
    "# Popola la colonna ausiliaria \"count\" contando le occorrenze di ogni nome_func nel file di testo\n",
    "dv['count'] = dv['nome_func'].apply(lambda x: conta_occorrenze(percorso_file_testo, x))\n",
    "\n",
    "dv['target'] = dv['count'].apply(lambda x: 1 if x > 1 else 0)\n",
    "\n",
    "# Stampa il numero totale di voci nel dataframe\n",
    "print(\"Numero totale di voci nel dataframe:\", dv.shape[0])\n",
    "\n",
    "# Verifica se la colonna count contiene almeno un valore pari a 0\n",
    "if (dv['count'] == 0).any():\n",
    "    print(\"La colonna 'count' contiene almeno un valore pari a 0.\")\n",
    "else:\n",
    "    print(\"La colonna 'count' non contiene valori pari a 0.\")\n",
    "\n",
    "# Elimina la colonna ausiliaria count\n",
    "dv.drop(columns=['count'], inplace=True)\n",
    "\n",
    "# Stampa il dataframe\n",
    "print(dv)"
   ]
  },
  {
   "cell_type": "code",
   "execution_count": 21,
   "metadata": {},
   "outputs": [
    {
     "name": "stdout",
     "output_type": "stream",
     "text": [
      "Conteggio dei valori target:\n",
      "target\n",
      "0    1087\n",
      "1     167\n",
      "Name: count, dtype: int64\n"
     ]
    },
    {
     "data": {
      "image/png": "[encoded data removed]",
      "text/plain": [
       "<Figure size 640x480 with 1 Axes>"
      ]
     },
     "metadata": {},
     "output_type": "display_data"
    }
   ],
   "source": [
    "# Conta quanti valori target sono pari a 0 e 1\n",
    "count_target = dv['target'].value_counts()\n",
    "\n",
    "# Stampa il conteggio\n",
    "print(\"Conteggio dei valori target:\")\n",
    "print(count_target)\n",
    "\n",
    "# Plot della distribuzione dei valori target\n",
    "count_target.plot(kind='bar', color=['blue', 'orange'])\n",
    "plt.title('Distribuzione dei valori target')\n",
    "plt.xlabel('Valore target')\n",
    "plt.ylabel('Conteggio')\n",
    "plt.xticks([0, 1], ['0', '1'], rotation=0)\n",
    "plt.show()\n"
   ]
  },
  {
   "cell_type": "markdown",
   "metadata": {
    "id": "P-lphw6YzN32"
   },
   "source": [
    "# Creazione vettore predizioni flawfinder\n"
   ]
  },
  {
   "cell_type": "code",
   "execution_count": 22,
   "metadata": {},
   "outputs": [],
   "source": [
    "df.drop(['cwe','project','size', 'func'], axis='columns', inplace=True)\n"
   ]
  },
  {
   "cell_type": "code",
   "execution_count": 23,
   "metadata": {},
   "outputs": [
    {
     "data": {
      "text/html": [
       "<div>\n",
       "<style scoped>\n",
       "    .dataframe tbody tr th:only-of-type {\n",
       "        vertical-align: middle;\n",
       "    }\n",
       "\n",
       "    .dataframe tbody tr th {\n",
       "        vertical-align: top;\n",
       "    }\n",
       "\n",
       "    .dataframe thead th {\n",
       "        text-align: right;\n",
       "    }\n",
       "</style>\n",
       "<table border=\"1\" class=\"dataframe\">\n",
       "  <thead>\n",
       "    <tr style=\"text-align: right;\">\n",
       "      <th></th>\n",
       "      <th>_id</th>\n",
       "      <th>target</th>\n",
       "    </tr>\n",
       "  </thead>\n",
       "  <tbody>\n",
       "    <tr>\n",
       "      <th>24286</th>\n",
       "      <td>6527b17999826ba7e58ebd4c</td>\n",
       "      <td>1</td>\n",
       "    </tr>\n",
       "    <tr>\n",
       "      <th>24372</th>\n",
       "      <td>6527b2c499826ba7e592f60d</td>\n",
       "      <td>0</td>\n",
       "    </tr>\n",
       "    <tr>\n",
       "      <th>24726</th>\n",
       "      <td>6527b1ea99826ba7e5900fe3</td>\n",
       "      <td>0</td>\n",
       "    </tr>\n",
       "    <tr>\n",
       "      <th>24716</th>\n",
       "      <td>6527b2b199826ba7e592ab24</td>\n",
       "      <td>0</td>\n",
       "    </tr>\n",
       "    <tr>\n",
       "      <th>25001</th>\n",
       "      <td>6527b18899826ba7e58edae0</td>\n",
       "      <td>1</td>\n",
       "    </tr>\n",
       "  </tbody>\n",
       "</table>\n",
       "</div>"
      ],
      "text/plain": [
       "                            _id  target\n",
       "24286  6527b17999826ba7e58ebd4c       1\n",
       "24372  6527b2c499826ba7e592f60d       0\n",
       "24726  6527b1ea99826ba7e5900fe3       0\n",
       "24716  6527b2b199826ba7e592ab24       0\n",
       "25001  6527b18899826ba7e58edae0       1"
      ]
     },
     "execution_count": 23,
     "metadata": {},
     "output_type": "execute_result"
    }
   ],
   "source": [
    "# Funzione per estrarre l'identificativo\n",
    "def extract_oid(oid_dict):\n",
    "    return oid_dict['$oid']\n",
    "\n",
    "# Applicare la funzione a ogni riga del DataFrame\n",
    "df['_id'] = df['_id'].apply(extract_oid)\n",
    "df.head()"
   ]
  },
  {
   "cell_type": "code",
   "execution_count": 24,
   "metadata": {},
   "outputs": [
    {
     "data": {
      "text/html": [
       "<div>\n",
       "<style scoped>\n",
       "    .dataframe tbody tr th:only-of-type {\n",
       "        vertical-align: middle;\n",
       "    }\n",
       "\n",
       "    .dataframe tbody tr th {\n",
       "        vertical-align: top;\n",
       "    }\n",
       "\n",
       "    .dataframe thead th {\n",
       "        text-align: right;\n",
       "    }\n",
       "</style>\n",
       "<table border=\"1\" class=\"dataframe\">\n",
       "  <thead>\n",
       "    <tr style=\"text-align: right;\">\n",
       "      <th></th>\n",
       "      <th>_id</th>\n",
       "      <th>target</th>\n",
       "    </tr>\n",
       "  </thead>\n",
       "  <tbody>\n",
       "    <tr>\n",
       "      <th>0</th>\n",
       "      <td>6527b17999826ba7e58ebd4c</td>\n",
       "      <td>1</td>\n",
       "    </tr>\n",
       "    <tr>\n",
       "      <th>1</th>\n",
       "      <td>6527b2c499826ba7e592f60d</td>\n",
       "      <td>0</td>\n",
       "    </tr>\n",
       "    <tr>\n",
       "      <th>2</th>\n",
       "      <td>6527b1ea99826ba7e5900fe3</td>\n",
       "      <td>0</td>\n",
       "    </tr>\n",
       "    <tr>\n",
       "      <th>3</th>\n",
       "      <td>6527b2b199826ba7e592ab24</td>\n",
       "      <td>0</td>\n",
       "    </tr>\n",
       "    <tr>\n",
       "      <th>4</th>\n",
       "      <td>6527b18899826ba7e58edae0</td>\n",
       "      <td>1</td>\n",
       "    </tr>\n",
       "  </tbody>\n",
       "</table>\n",
       "</div>"
      ],
      "text/plain": [
       "                        _id  target\n",
       "0  6527b17999826ba7e58ebd4c       1\n",
       "1  6527b2c499826ba7e592f60d       0\n",
       "2  6527b1ea99826ba7e5900fe3       0\n",
       "3  6527b2b199826ba7e592ab24       0\n",
       "4  6527b18899826ba7e58edae0       1"
      ]
     },
     "execution_count": 24,
     "metadata": {},
     "output_type": "execute_result"
    }
   ],
   "source": [
    "df.reset_index(drop=True, inplace=True)\n",
    "df.head()"
   ]
  },
  {
   "cell_type": "code",
   "execution_count": 25,
   "metadata": {},
   "outputs": [
    {
     "data": {
      "text/html": [
       "<div>\n",
       "<style scoped>\n",
       "    .dataframe tbody tr th:only-of-type {\n",
       "        vertical-align: middle;\n",
       "    }\n",
       "\n",
       "    .dataframe tbody tr th {\n",
       "        vertical-align: top;\n",
       "    }\n",
       "\n",
       "    .dataframe thead th {\n",
       "        text-align: right;\n",
       "    }\n",
       "</style>\n",
       "<table border=\"1\" class=\"dataframe\">\n",
       "  <thead>\n",
       "    <tr style=\"text-align: right;\">\n",
       "      <th></th>\n",
       "      <th>nome_func</th>\n",
       "      <th>target</th>\n",
       "    </tr>\n",
       "  </thead>\n",
       "  <tbody>\n",
       "    <tr>\n",
       "      <th>0</th>\n",
       "      <td>6527b17999826ba7e58ebd4e</td>\n",
       "      <td>0</td>\n",
       "    </tr>\n",
       "    <tr>\n",
       "      <th>1</th>\n",
       "      <td>6527b18d99826ba7e58ee366</td>\n",
       "      <td>0</td>\n",
       "    </tr>\n",
       "    <tr>\n",
       "      <th>2</th>\n",
       "      <td>6527b2b499826ba7e592b6e9</td>\n",
       "      <td>0</td>\n",
       "    </tr>\n",
       "    <tr>\n",
       "      <th>3</th>\n",
       "      <td>6527b17a99826ba7e58ec1c1</td>\n",
       "      <td>1</td>\n",
       "    </tr>\n",
       "    <tr>\n",
       "      <th>4</th>\n",
       "      <td>6527b2c899826ba7e592ffea</td>\n",
       "      <td>1</td>\n",
       "    </tr>\n",
       "  </tbody>\n",
       "</table>\n",
       "</div>"
      ],
      "text/plain": [
       "                  nome_func  target\n",
       "0  6527b17999826ba7e58ebd4e       0\n",
       "1  6527b18d99826ba7e58ee366       0\n",
       "2  6527b2b499826ba7e592b6e9       0\n",
       "3  6527b17a99826ba7e58ec1c1       1\n",
       "4  6527b2c899826ba7e592ffea       1"
      ]
     },
     "execution_count": 25,
     "metadata": {},
     "output_type": "execute_result"
    }
   ],
   "source": [
    "# Rimuovere il suffisso .c dalla colonna nome_func\n",
    "dv['nome_func'] = dv['nome_func'].str.replace('.c', '', regex=False)\n",
    "dv.head()"
   ]
  },
  {
   "cell_type": "code",
   "execution_count": 26,
   "metadata": {},
   "outputs": [
    {
     "name": "stdout",
     "output_type": "stream",
     "text": [
      "                           _id  target\n",
      "0     6527b17999826ba7e58ebd4c       1\n",
      "1     6527b2c499826ba7e592f60d       0\n",
      "2     6527b1ea99826ba7e5900fe3       0\n",
      "3     6527b2b199826ba7e592ab24       0\n",
      "4     6527b18899826ba7e58edae0       1\n",
      "...                        ...     ...\n",
      "1249  6527b17999826ba7e58ebdff       1\n",
      "1250  6527b1e199826ba7e58ff171       0\n",
      "1251  6527b2b099826ba7e592a5fb       0\n",
      "1252  6527b18399826ba7e58ed3e9       1\n",
      "1253  6527b17999826ba7e58ebfee       1\n",
      "\n",
      "[1254 rows x 2 columns]\n",
      "                     nome_func  target\n",
      "701   6527b17999826ba7e58ebd4c       0\n",
      "960   6527b2c499826ba7e592f60d       0\n",
      "1016  6527b1ea99826ba7e5900fe3       0\n",
      "790   6527b2b199826ba7e592ab24       0\n",
      "904   6527b18899826ba7e58edae0       0\n",
      "...                        ...     ...\n",
      "470   6527b17999826ba7e58ebdff       0\n",
      "699   6527b1e199826ba7e58ff171       0\n",
      "990   6527b2b099826ba7e592a5fb       0\n",
      "585   6527b18399826ba7e58ed3e9       0\n",
      "1054  6527b17999826ba7e58ebfee       0\n",
      "\n",
      "[1254 rows x 2 columns]\n"
     ]
    }
   ],
   "source": [
    "# Ordina dv in base all'ordine della colonna nome_func di df\n",
    "dv['sort_index'] = dv['nome_func'].apply(lambda x: df[df['_id'] == x].index[0])\n",
    "dv.sort_values(by='sort_index', inplace=True)\n",
    "\n",
    "# Rimuove la colonna sort_index usata per l'ordinamento\n",
    "dv.drop(columns='sort_index', inplace=True)\n",
    "\n",
    "print(df)\n",
    "print(dv)"
   ]
  },
  {
   "cell_type": "code",
   "execution_count": 29,
   "metadata": {},
   "outputs": [
    {
     "name": "stdout",
     "output_type": "stream",
     "text": [
      "Classification Report:\n",
      "              precision    recall  f1-score   support\n",
      "\n",
      "           0       0.52      0.90      0.66       627\n",
      "           1       0.61      0.16      0.26       627\n",
      "\n",
      "    accuracy                           0.53      1254\n",
      "   macro avg       0.56      0.53      0.46      1254\n",
      "weighted avg       0.56      0.53      0.46      1254\n",
      "\n"
     ]
    },
    {
     "data": {
      "image/png": "[encoded data removed]",
      "text/plain": [
       "<Figure size 640x480 with 2 Axes>"
      ]
     },
     "metadata": {},
     "output_type": "display_data"
    }
   ],
   "source": [
    "true_labels = df['target'].values\n",
    "predicted_labels = dv['target'].values\n",
    "\n",
    "# Step 11: Stampa del classification report\n",
    "print(\"Classification Report:\")\n",
    "print(classification_report(true_labels, predicted_labels))\n",
    "\n",
    "target_names = ['not vulnerable', 'vulnerable']\n",
    "\n",
    "# Calcola la matrice di confusione\n",
    "conf_matrix = confusion_matrix(true_labels, predicted_labels)\n",
    "\n",
    "# Visualizza la matrice di confusione\n",
    "disp = ConfusionMatrixDisplay(confusion_matrix=conf_matrix, display_labels=target_names)\n",
    "disp.plot(cmap=plt.cm.Blues)\n",
    "plt.show()"
   ]
  },
  {
   "cell_type": "code",
   "execution_count": 30,
   "metadata": {},
   "outputs": [],
   "source": [
    "# Salva dv come un file JSON\n",
    "dv.to_json('flawfinder_prediction.json', orient='records', lines=True)"
   ]
  },
  {
   "cell_type": "code",
   "execution_count": 33,
   "metadata": {},
   "outputs": [],
   "source": [
    "# Salva dv come un file JSON\n",
    "df.to_json('df_test.json', orient='records', lines=True)"
   ]
  },
  {
   "cell_type": "code",
   "execution_count": null,
   "metadata": {},
   "outputs": [],
   "source": []
  }
 ],
 "metadata": {
  "colab": {
   "collapsed_sections": [
    "22zuxXMeeSwh",
    "l6z58tn3yN8S"
   ],
   "provenance": []
  },
  "kernelspec": {
   "display_name": "Python 3 (ipykernel)",
   "language": "python",
   "name": "python3"
  },
  "language_info": {
   "codemirror_mode": {
    "name": "ipython",
    "version": 3
   },
   "file_extension": ".py",
   "mimetype": "text/x-python",
   "name": "python",
   "nbconvert_exporter": "python",
   "pygments_lexer": "ipython3",
   "version": "3.11.7"
  }
 },
 "nbformat": 4,
 "nbformat_minor": 4
}
